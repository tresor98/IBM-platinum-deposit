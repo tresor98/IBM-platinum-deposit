{
 "cells": [
  {
   "cell_type": "markdown",
   "metadata": {},
   "source": [
    "Importing relevant libraries that will be needed"
   ]
  },
  {
   "cell_type": "code",
   "execution_count": null,
   "metadata": {},
   "outputs": [],
   "source": [
    "import pandas as pd\n",
    "import numpy as np\n",
    "import matplotlib.pyplot as plt\n",
    "import sklearn\n",
    "from sklearn.linear_model import LogisticRegression\n",
    "from sklearn.tree import DecisionTreeClassifier\n",
    "from sklearn.preprocessing import StandardScaler\n",
    "from sklearn.metrics import confusion_matrix\n",
    "from sklearn.metrics import classification_report\n",
    "from sklearn.model_selection import KFold\n",
    "from sklearn.feature_selection import SelectPercentile\n",
    "import pickle"
   ]
  },
  {
   "cell_type": "markdown",
   "metadata": {},
   "source": [
    "Defining our function that preprocess the input data before feeding it to the model.\n"
   ]
  },
  {
   "cell_type": "markdown",
   "metadata": {},
   "source": [
    "The function returns testing set divided comprise of inputs and labels"
   ]
  },
  {
   "cell_type": "code",
   "execution_count": null,
   "metadata": {},
   "outputs": [],
   "source": [
    "#We assume that the input data has the same characteristics like our training model\n",
    "#Which means that the data contains duration and y features. \n",
    "#We assign y to a target class that we will use to compare it to our predicted class\n",
    "#The function takes as input our original data used to build the model and the unseen data as new_data\n",
    "\n",
    "def preprocessing(original_data, new_data):\n",
    "    df = pd.read_csv(original_data)\n",
    "    #df_new = pd.read_csv(new_data)\n",
    "    testing=pd.read_csv(new_data)\n",
    "    testing.loc[df['y']=='yes','y']=1\n",
    "    testing.loc[df['y']=='no','y']=0\n",
    "    testing = testing.sample(frac=1)\n",
    "    target_test = testing['y']\n",
    "    y_test = target_test.values\n",
    "    df_new = testing\n",
    "    #Getting rid of the column Unnamed: 0\n",
    "    df1=df.loc[:,'age':'y']\n",
    "    df1_new = df_new.loc[:,'age':'poutcome']\n",
    "    #Shuffle the data to avoid that it is ordered by class\n",
    "    df1=df1.sample(frac=1)\n",
    "    #df1_new = df1_new.sample(frac=1)\n",
    "    #Converting the target value to numeric\n",
    "    df1.loc[df1['y']=='yes','y']=1\n",
    "    df1.loc[df1['y']=='no','y']=0\n",
    "    #Removing default and duration features\n",
    "    df2 = df1.drop(columns='default')\n",
    "    df2 = df2.drop(columns='duration')\n",
    "    df2_new = df1_new.drop(columns='default')\n",
    "    df2_new = df2_new.drop(columns='duration')\n",
    "    #Drop the columns with balance over 28000\n",
    "    df2 = df2[df2['balance']<28000]\n",
    "    #Apply get dummies on categorical variable\n",
    "    #print('Features before get_dummies: ')\n",
    "    #print(list(df2.columns))\n",
    "    df2_dummies = pd.get_dummies(df2)\n",
    "    df2_new_dummies = pd.get_dummies(df2_new)\n",
    "    #print('Features after get_dummies: ')\n",
    "    #print(list(df2_dummies.columns))\n",
    "    #print(len(list(df2_dummies.columns)))\n",
    "    #split my data into data and target\n",
    "    target = df2_dummies['y']\n",
    "    data = df2_dummies.drop(columns='y')\n",
    "    #Extract Numpy arrays\n",
    "    X = data.values\n",
    "    y = target.values\n",
    "    X1 = df2_new_dummies.values\n",
    "    #Print the shape of our data and target\n",
    "    #print(X.shape)\n",
    "    #print(y.shape)\n",
    "    #Divide our data into training set and testing set\n",
    "    X_train,y_train= X,y \n",
    "    X_test = X1\n",
    "    #Using select percentile\n",
    "    select = SelectPercentile(percentile=30)\n",
    "    select.fit(X_train,y_train)\n",
    "    X_train_selected = select.transform(X_train)\n",
    "    X_test_selected = select.transform(X_test)\n",
    "    #standardize our training data and testing data\n",
    "    scaler = StandardScaler()\n",
    "    scaler.fit(X_train_selected)\n",
    "    #X_train_scaled = scaler.transform(X_train_selected)\n",
    "    X_test_scaled = scaler.transform(X_test_selected)\n",
    "    \n",
    "    return X_test_scaled,y_test"
   ]
  },
  {
   "cell_type": "markdown",
   "metadata": {},
   "source": [
    "Feeding the model with our new dataset and getting results"
   ]
  },
  {
   "cell_type": "code",
   "execution_count": null,
   "metadata": {},
   "outputs": [],
   "source": [
    "#Loading our model\n",
    "#If you do not have our saved model within the same folder with the notebook, please input the exact location\n",
    "loaded_model = pickle.load(open('best_model.sav', 'rb'))\n",
    "\n",
    "#Getting our preprocessed data and target class such as data_20319681.csv or its exact location without the quoting mark\n",
    "print('Input your file name ')\n",
    "filename=input()\n",
    "\n",
    "#We suppose that the data we used to train the model('data_20319681.csv') is within the same folder as this notebook \n",
    "#If otherwise, kindly replace it with the exact location\n",
    "\n",
    "input_data,target_class = preprocessing('data_20319681.csv',filename)\n",
    "\n",
    "#Use our model to predict and print a classification report and a confusion matrix to check better understand the results\n",
    "#Pred stand for predicted data\n",
    "pred = loaded_model.predict(input_data)\n",
    "print('Confusion matrix')\n",
    "print(confusion_matrix(target_class,pred))\n",
    "print('Classification report')\n",
    "print(classification_report(target_class,pred))"
   ]
  },
  {
   "cell_type": "code",
   "execution_count": null,
   "metadata": {},
   "outputs": [],
   "source": []
  }
 ],
 "metadata": {
  "kernelspec": {
   "display_name": "Python 3",
   "language": "python",
   "name": "python3"
  },
  "language_info": {
   "codemirror_mode": {
    "name": "ipython",
    "version": 3
   },
   "file_extension": ".py",
   "mimetype": "text/x-python",
   "name": "python",
   "nbconvert_exporter": "python",
   "pygments_lexer": "ipython3",
   "version": "3.7.3"
  }
 },
 "nbformat": 4,
 "nbformat_minor": 2
}
